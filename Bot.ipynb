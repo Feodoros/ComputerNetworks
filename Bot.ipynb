{
 "cells": [
  {
   "cell_type": "code",
   "execution_count": 119,
   "metadata": {},
   "outputs": [],
   "source": [
    "from PIL import Image\n",
    "import pytesseract\n",
    "import requests\n",
    "import io\n",
    "from pdfminer.converter import TextConverter\n",
    "from pdfminer.pdfinterp import PDFPageInterpreter\n",
    "from pdfminer.pdfinterp import PDFResourceManager\n",
    "from pdfminer.pdfpage import PDFPage"
   ]
  },
  {
   "cell_type": "code",
   "execution_count": 120,
   "metadata": {},
   "outputs": [],
   "source": [
    "pytesseract.pytesseract.tesseract_cmd = r'C:\\Program Files\\Tesseract-OCR\\tesseract.exe'"
   ]
  },
  {
   "cell_type": "code",
   "execution_count": 121,
   "metadata": {},
   "outputs": [],
   "source": [
    "def extract_text_from_pdf(pdf_path):\n",
    "    resource_manager = PDFResourceManager()\n",
    "    fake_file_handle = io.StringIO()\n",
    "    converter = TextConverter(resource_manager, fake_file_handle)\n",
    "    page_interpreter = PDFPageInterpreter(resource_manager, converter)\n",
    "\n",
    "    with open(pdf_path, 'rb') as fh:\n",
    "        for page in PDFPage.get_pages(fh, caching=True,\n",
    "                                      check_extractable=True):\n",
    "            page_interpreter.process_page(page)\n",
    "\n",
    "        text = fake_file_handle.getvalue()\n",
    "\n",
    "    converter.close()\n",
    "    fake_file_handle.close()\n",
    "\n",
    "    if text:\n",
    "        return text"
   ]
  },
  {
   "cell_type": "code",
   "execution_count": 122,
   "metadata": {
    "scrolled": true
   },
   "outputs": [],
   "source": [
    "import telebot\n",
    "API_TOKEN = '1057517582:AAHSGWUKn-4JtVGdGbMjFwHBKTYWf6I7EsY'\n",
    "bot = telebot.TeleBot(API_TOKEN)\n",
    "\n",
    "\n",
    "@bot.message_handler(content_types=['photo', 'document', 'text'])\n",
    "def get_text_messages(message):\n",
    "    if message.content_type == 'photo':\n",
    "        bot.send_message(\n",
    "            message.from_user.id,\n",
    "            \"Твое изображение получил, сейчас обработаю и скину текст. Местами могу ошибаться, я еще только учусь.\"\n",
    "        )\n",
    "        a = message.json\n",
    "        file_id = a['photo'][-1]['file_id']\n",
    "        file_info = bot.get_file(file_id)\n",
    "\n",
    "        file = requests.get('https://api.telegram.org/file/bot{0}/{1}'.format(\n",
    "            API_TOKEN, file_info.file_path))\n",
    "\n",
    "        with open('C:/Users/Fedor/Documents/Edu/ComputerNetworks/file.jpg',\n",
    "                  'wb') as f:\n",
    "            f.write(file.content)\n",
    "\n",
    "        bot.send_message(message.from_user.id, \"Так, картинка уже у меня...\")\n",
    "        file = Image.open(\n",
    "            'C:/Users/Fedor/Documents/Edu/ComputerNetworks/file.jpg')\n",
    "        im = file.convert('L')\n",
    "        text = pytesseract.image_to_string(im, lang='rus')\n",
    "        print(text)\n",
    "        bot.send_message(message.from_user.id, text)\n",
    "\n",
    "    if message.content_type == 'document':\n",
    "        bot.send_message(message.from_user.id,\n",
    "                         \"Твой pdf получил, сейчас обработаю...\")\n",
    "        a = message.json\n",
    "        file_id = a['document']['file_id']\n",
    "        file_info = bot.get_file(file_id)\n",
    "        file = requests.get('https://api.telegram.org/file/bot{0}/{1}'.format(\n",
    "            API_TOKEN, file_info.file_path))\n",
    "        path = 'C:/Users/Fedor/Documents/Edu/ComputerNetworks/' + str(\n",
    "            a['document']['file_name'])\n",
    "        with open(path, 'wb') as f:\n",
    "            f.write(file.content)\n",
    "\n",
    "        bot.send_message(message.from_user.id, \"Так, уже скачал...\")\n",
    "        text = extract_text_from_pdf(path)\n",
    "        bot.send_message(message.from_user.id, text)\n",
    "        print(text)\n",
    "\n",
    "    if message.content_type == 'text':\n",
    "        if message.text == \"/command1\":\n",
    "            bot.send_message(\n",
    "                message.from_user.id,\n",
    "                'Привет еще раз! Просто отправь мне файл формата PDF или обычный скриншот, я постараюсь вытащить оттуда текст :)'\n",
    "            )\n",
    "        if message.text == \"/command2\":\n",
    "            bot.send_message(\n",
    "                message.from_user.id,\n",
    "                \"Я самый обычный телеграмм-бот, использую технологии компьютерного зрения для обработки фотографий. Мой код лежт тут: *ссылка на гит*\"\n",
    "            )\n",
    "        if message.text == \"/start\":\n",
    "            bot.send_message(\n",
    "                message.from_user.id,\n",
    "                \"Привет, {0}! Меня зовут TextGrabber. Я помогу тебе достать текст с картинки или PDF файла. Нажми /command1\"\n",
    "                .format(str(message.from_user.first_name)))\n",
    "\n",
    "\n",
    "bot.polling(none_stop=True, interval=0)"
   ]
  },
  {
   "cell_type": "code",
   "execution_count": null,
   "metadata": {},
   "outputs": [],
   "source": []
  },
  {
   "cell_type": "code",
   "execution_count": null,
   "metadata": {},
   "outputs": [],
   "source": []
  }
 ],
 "metadata": {
  "kernelspec": {
   "display_name": "Python 3",
   "language": "python",
   "name": "python3"
  },
  "language_info": {
   "codemirror_mode": {
    "name": "ipython",
    "version": 3
   },
   "file_extension": ".py",
   "mimetype": "text/x-python",
   "name": "python",
   "nbconvert_exporter": "python",
   "pygments_lexer": "ipython3",
   "version": "3.7.5"
  },
  "toc": {
   "base_numbering": 1,
   "nav_menu": {},
   "number_sections": true,
   "sideBar": true,
   "skip_h1_title": false,
   "title_cell": "Table of Contents",
   "title_sidebar": "Contents",
   "toc_cell": false,
   "toc_position": {},
   "toc_section_display": true,
   "toc_window_display": false
  }
 },
 "nbformat": 4,
 "nbformat_minor": 2
}
